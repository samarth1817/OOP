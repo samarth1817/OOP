{
 "cells": [
  {
   "cell_type": "code",
   "execution_count": 1,
   "id": "8f7d0b4a",
   "metadata": {},
   "outputs": [],
   "source": [
    "class Employee:\n",
    "    def __init__(self, name, age, salary):\n",
    "        self.name = name\n",
    "        self.age = age\n",
    "        self.salary = salary\n",
    "\n",
    "\n",
    "employee1 = Employee(\"John Doe\", 30, 50000)"
   ]
  },
  {
   "cell_type": "code",
   "execution_count": 2,
   "id": "fe8b2808",
   "metadata": {
    "scrolled": true
   },
   "outputs": [
    {
     "data": {
      "text/plain": [
       "'John Doe'"
      ]
     },
     "execution_count": 2,
     "metadata": {},
     "output_type": "execute_result"
    }
   ],
   "source": [
    "employee1.name"
   ]
  },
  {
   "cell_type": "code",
   "execution_count": 3,
   "id": "8a26539d",
   "metadata": {},
   "outputs": [
    {
     "name": "stdout",
     "output_type": "stream",
     "text": [
      "sanja\n",
      "15\n",
      "Name: sanja\n",
      "Age: 0\n",
      "Grade: 15\n"
     ]
    }
   ],
   "source": [
    "class Student:\n",
    "    def __init__(self):\n",
    "        self.name = \"Default Name\"\n",
    "        self.age = 0\n",
    "        self.grade = \"Default Grade\"\n",
    "\n",
    "\n",
    "student1 = Student()\n",
    "student1.name=input()\n",
    "student1.grade=input()\n",
    "\n",
    "\n",
    "print(\"Name:\", student1.name)\n",
    "print(\"Age:\", student1.age)\n",
    "print(\"Grade:\", student1.grade)"
   ]
  },
  {
   "cell_type": "code",
   "execution_count": 4,
   "id": "1ee1feb0",
   "metadata": {},
   "outputs": [],
   "source": [
    "class Rectangle:\n",
    "    def __init__(self,length,breadth):\n",
    "        self.length = length\n",
    "        self.breadth = breadth\n",
    "\n",
    "    \n",
    "    def area(self):\n",
    "        self.area = self.length*self.breadth\n",
    "    \n",
    "    def display(self):\n",
    "        print(f\"area of rectangle is {self.area}\")"
   ]
  },
  {
   "cell_type": "code",
   "execution_count": 5,
   "id": "277662d4",
   "metadata": {
    "scrolled": true
   },
   "outputs": [
    {
     "name": "stdout",
     "output_type": "stream",
     "text": [
      "Enter length: 10\n",
      "Enter breadth: 20\n",
      "area of rectangle is 200\n"
     ]
    }
   ],
   "source": [
    "length = int(input(\"Enter length: \"))\n",
    "breadth = int(input(\"Enter breadth: \"))\n",
    "rect = Rectangle(length,breadth)\n",
    "rect.area()\n",
    "rect.display()"
   ]
  },
  {
   "cell_type": "code",
   "execution_count": 6,
   "id": "dcb65058",
   "metadata": {},
   "outputs": [],
   "source": [
    "class birthdayboy():\n",
    "    def __init__(self,name,age):\n",
    "        self.name=name\n",
    "        self.age=age\n",
    "    def age_plus(self):\n",
    "        self.age+=1\n",
    "    def display(self):\n",
    "        print(f\"Birthday boy name:{self.name}\")\n",
    "        print(f\"Birthday boy age:{self.age}\")"
   ]
  },
  {
   "cell_type": "code",
   "execution_count": 7,
   "id": "bbc86264",
   "metadata": {
    "scrolled": true
   },
   "outputs": [
    {
     "name": "stdout",
     "output_type": "stream",
     "text": [
      "sanja\n",
      "15\n",
      "Birthday boy name:sanja\n",
      "Birthday boy age:16\n"
     ]
    }
   ],
   "source": [
    "name=input()\n",
    "age = int(input())\n",
    "b1=birthdayboy(name,age)\n",
    "b1.age_plus()\n",
    "b1.display()"
   ]
  },
  {
   "cell_type": "code",
   "execution_count": 8,
   "id": "6ede5b34",
   "metadata": {},
   "outputs": [],
   "source": [
    "class songs:\n",
    "    def __init__(self,lyrics):\n",
    "        self.lyrics=lyrics\n",
    "    def sing_me_a_song(self):\n",
    "        print(\"Lyrics of your song is: \")\n",
    "        for x in self.lyrics:\n",
    "            print(x)\n"
   ]
  },
  {
   "cell_type": "code",
   "execution_count": 9,
   "id": "7a7cd5a5",
   "metadata": {},
   "outputs": [
    {
     "name": "stdout",
     "output_type": "stream",
     "text": [
      "Lyrics of your song is: \n",
      "May ambedkar bless you\n",
      "Have a sunshine on you\n",
      "Happy birthday to you\n"
     ]
    }
   ],
   "source": [
    "lyrics=songs([\"May ambedkar bless you\",\"Have a sunshine on you\",\"Happy birthday to you\"])\n",
    "lyrics.sing_me_a_song()"
   ]
  },
  {
   "cell_type": "code",
   "execution_count": 15,
   "id": "cdf1c56a",
   "metadata": {},
   "outputs": [],
   "source": [
    "class Dog:\n",
    "    def __init__(self,name,size,breed,dob):\n",
    "        self.name=name\n",
    "        self.size=size\n",
    "        self.breed=breed\n",
    "        self.dob=dob\n",
    "    def bark(self):\n",
    "        print(\"Woof!\")\n",
    "    def get_name(self):\n",
    "        print(f\"The dog's name is : {self.name}\")\n",
    "    def set_name(self):\n",
    "        self.name=input()\n",
    "        print(self.name.title())"
   ]
  },
  {
   "cell_type": "code",
   "execution_count": 16,
   "id": "7334b4bb",
   "metadata": {},
   "outputs": [
    {
     "name": "stdout",
     "output_type": "stream",
     "text": [
      "sanja\n",
      "large\n",
      "malur\n",
      "14/02/2002\n"
     ]
    }
   ],
   "source": [
    "name=input()\n",
    "size=input()\n",
    "breed=input()\n",
    "dob=input()\n",
    "dog1=Dog(name,size,breed,dob)"
   ]
  },
  {
   "cell_type": "code",
   "execution_count": 17,
   "id": "4b29b787",
   "metadata": {},
   "outputs": [
    {
     "name": "stdout",
     "output_type": "stream",
     "text": [
      "Woof!\n"
     ]
    }
   ],
   "source": [
    "dog1.bark()"
   ]
  },
  {
   "cell_type": "code",
   "execution_count": 18,
   "id": "a36b2933",
   "metadata": {},
   "outputs": [
    {
     "name": "stdout",
     "output_type": "stream",
     "text": [
      "The dog's name is : sanja\n"
     ]
    }
   ],
   "source": [
    "dog1.get_name()"
   ]
  },
  {
   "cell_type": "code",
   "execution_count": 19,
   "id": "774dc9bb",
   "metadata": {},
   "outputs": [
    {
     "name": "stdout",
     "output_type": "stream",
     "text": [
      "sanju\n",
      "Sanju\n"
     ]
    }
   ],
   "source": [
    "dog1.set_name()"
   ]
  },
  {
   "cell_type": "code",
   "execution_count": null,
   "id": "7c41e84b",
   "metadata": {},
   "outputs": [],
   "source": []
  },
  {
   "cell_type": "code",
   "execution_count": null,
   "id": "db60f0f6",
   "metadata": {},
   "outputs": [],
   "source": []
  }
 ],
 "metadata": {
  "kernelspec": {
   "display_name": "Python 3 (ipykernel)",
   "language": "python",
   "name": "python3"
  },
  "language_info": {
   "codemirror_mode": {
    "name": "ipython",
    "version": 3
   },
   "file_extension": ".py",
   "mimetype": "text/x-python",
   "name": "python",
   "nbconvert_exporter": "python",
   "pygments_lexer": "ipython3",
   "version": "3.9.12"
  }
 },
 "nbformat": 4,
 "nbformat_minor": 5
}
