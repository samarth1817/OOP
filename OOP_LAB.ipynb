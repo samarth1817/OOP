{
 "cells": [
  {
   "cell_type": "code",
   "execution_count": 14,
   "id": "5f393a6a",
   "metadata": {},
   "outputs": [
    {
     "name": "stdout",
     "output_type": "stream",
     "text": [
      "10 85 96 73 46\n",
      "96\n"
     ]
    }
   ],
   "source": [
    "a = map(int,input().split())\n",
    "a=list(a)\n",
    "def max_element(list):\n",
    "    return max(list)\n",
    "b=max_element(a)\n",
    "print(b)"
   ]
  },
  {
   "cell_type": "code",
   "execution_count": 22,
   "id": "5efc21db",
   "metadata": {},
   "outputs": [
    {
     "name": "stdout",
     "output_type": "stream",
     "text": [
      "5\n",
      "64.9519052838329\n"
     ]
    }
   ],
   "source": [
    "import math\n",
    "length=int(input())\n",
    "def hexagon_area(a):\n",
    "    return (3/2)*math.sqrt(3)*a*a\n",
    "print(hexagon_area(length))"
   ]
  },
  {
   "cell_type": "code",
   "execution_count": 26,
   "id": "7983d524",
   "metadata": {},
   "outputs": [],
   "source": [
    "import re\n",
    "\n",
    "def is_valid_email(email):\n",
    "    pattern = r'^[a-zA-Z0-9._%+-]+@[a-zA-Z0-9.-]+\\.[a-zA-Z]{2,}$'\n",
    "    return bool(re.match(pattern, email))"
   ]
  },
  {
   "cell_type": "code",
   "execution_count": 27,
   "id": "11d551b9",
   "metadata": {},
   "outputs": [
    {
     "name": "stdout",
     "output_type": "stream",
     "text": [
      "sam@gmail.com\n",
      "True\n"
     ]
    }
   ],
   "source": [
    "print(is_valid_email(input()))"
   ]
  },
  {
   "cell_type": "code",
   "execution_count": 28,
   "id": "e29bea47",
   "metadata": {},
   "outputs": [],
   "source": [
    "def encrypt(text, shift):\n",
    "    cipher_text = \"\"\n",
    "    for char in text:\n",
    "        if char.isalpha():\n",
    "            ascii_val = ord(char)\n",
    "            shifted_ascii_val = ascii_val + shift\n",
    "            if char.isupper():\n",
    "                if shifted_ascii_val > ord('Z'):\n",
    "                    shifted_ascii_val -= 26\n",
    "                elif shifted_ascii_val < ord('A'):\n",
    "                    shifted_ascii_val += 26\n",
    "            elif char.islower():\n",
    "                if shifted_ascii_val > ord('z'):\n",
    "                    shifted_ascii_val -= 26\n",
    "                elif shifted_ascii_val < ord('a'):\n",
    "                    shifted_ascii_val += 26\n",
    "            cipher_text += chr(shifted_ascii_val)\n",
    "        else:\n",
    "            cipher_text += char\n",
    "    return cipher_text"
   ]
  },
  {
   "cell_type": "code",
   "execution_count": 32,
   "id": "f8a9c927",
   "metadata": {},
   "outputs": [
    {
     "name": "stdout",
     "output_type": "stream",
     "text": [
      "samarth\n",
      "6\n",
      "ygsgxzn\n"
     ]
    }
   ],
   "source": [
    "a= encrypt(input(),int(input()))\n",
    "print(a)"
   ]
  },
  {
   "cell_type": "code",
   "execution_count": 33,
   "id": "6b9a03d3",
   "metadata": {},
   "outputs": [],
   "source": [
    "def decrypt(cipher_text, shift):\n",
    "    plain_text = \"\"\n",
    "    for char in cipher_text:\n",
    "        if char.isalpha():\n",
    "            ascii_val = ord(char)\n",
    "            shifted_ascii_val = ascii_val - shift\n",
    "            if char.isupper():\n",
    "                if shifted_ascii_val < ord('A'):\n",
    "                    shifted_ascii_val += 26\n",
    "                elif shifted_ascii_val > ord('Z'):\n",
    "                    shifted_ascii_val -= 26\n",
    "            elif char.islower():\n",
    "                if shifted_ascii_val < ord('a'):\n",
    "                    shifted_ascii_val += 26\n",
    "                elif shifted_ascii_val > ord('z'):\n",
    "                    shifted_ascii_val -= 26\n",
    "            plain_text += chr(shifted_ascii_val)\n",
    "        else:\n",
    "            plain_text += char\n",
    "    return plain_text"
   ]
  },
  {
   "cell_type": "code",
   "execution_count": 34,
   "id": "d04a3ed9",
   "metadata": {
    "scrolled": true
   },
   "outputs": [
    {
     "name": "stdout",
     "output_type": "stream",
     "text": [
      "ygsgxzn\n",
      "6\n",
      "samarth\n"
     ]
    }
   ],
   "source": [
    "a= decrypt(input(),int(input()))\n",
    "print(a)"
   ]
  },
  {
   "cell_type": "code",
   "execution_count": 35,
   "id": "5cd90506",
   "metadata": {},
   "outputs": [],
   "source": [
    "def get_palindrome(s: str) -> list:\n",
    "    palindromes = []\n",
    "    for i in range(len(s)):\n",
    "        for j in range(i + 1, len(s) + 1):\n",
    "            if s[i:j] == s[i:j][::-1]:\n",
    "                palindromes.append(s[i:j])\n",
    "    return palindromes\n"
   ]
  },
  {
   "cell_type": "code",
   "execution_count": 36,
   "id": "04a326fd",
   "metadata": {},
   "outputs": [
    {
     "name": "stdout",
     "output_type": "stream",
     "text": [
      "sambob dad\n",
      "['s', 'a', 'm', 'b', 'bob', 'o', 'b', ' ', 'd', 'dad', 'a', 'd']\n"
     ]
    }
   ],
   "source": [
    "print(get_palindrome(input()))"
   ]
  },
  {
   "cell_type": "code",
   "execution_count": 37,
   "id": "dce27a61",
   "metadata": {
    "scrolled": true
   },
   "outputs": [
    {
     "name": "stdout",
     "output_type": "stream",
     "text": [
      "True\n",
      "False\n",
      "True\n",
      "False\n",
      "\n",
      "Check whether the said classes are subclasses of the built-in object class or not.\n",
      "True\n",
      "True\n"
     ]
    }
   ],
   "source": [
    "class Student:\n",
    "    pass\n",
    "\n",
    "class Marks:\n",
    "    pass\n",
    "\n",
    "# Create some instances of the classes\n",
    "student1 = Student()\n",
    "marks1 = Marks()\n",
    "\n",
    "# Check if the instances are of the said classes\n",
    "print(isinstance(student1, Student)) # True\n",
    "print(isinstance(marks1, Student)) # False\n",
    "print(isinstance(marks1, Marks)) # True\n",
    "print(isinstance(student1, Marks)) # False\n",
    "\n",
    "# Check if the classes are subclasses of the built-in object class\n",
    "print(\"\\nCheck whether the said classes are subclasses of the built-in object class or not.\")\n",
    "print(issubclass(Student, object)) # True\n",
    "print(issubclass(Marks, object)) # True"
   ]
  },
  {
   "cell_type": "code",
   "execution_count": 38,
   "id": "ac106dde",
   "metadata": {},
   "outputs": [],
   "source": [
    "class BirthdayBoy:\n",
    "    def __init__(self, name: str, age: int):\n",
    "        self.name = name\n",
    "        self.age = age\n",
    "\n",
    "    def birthday(self):\n",
    "        self.age += 1\n"
   ]
  },
  {
   "cell_type": "code",
   "execution_count": 39,
   "id": "4734146d",
   "metadata": {},
   "outputs": [
    {
     "name": "stdout",
     "output_type": "stream",
     "text": [
      "John is 25 years old.\n",
      "After the birthday, John is 26 years old.\n"
     ]
    }
   ],
   "source": [
    "# Create an instance of the BirthdayBoy class\n",
    "bb = BirthdayBoy(\"John\", 25)\n",
    "\n",
    "# Print the initial age\n",
    "print(f\"{bb.name} is {bb.age} years old.\")\n",
    "\n",
    "# Call the birthday method to increase the age\n",
    "bb.birthday()\n",
    "\n",
    "# Print the new age\n",
    "print(f\"After the birthday, {bb.name} is {bb.age} years old.\")"
   ]
  }
 ],
 "metadata": {
  "kernelspec": {
   "display_name": "Python 3 (ipykernel)",
   "language": "python",
   "name": "python3"
  },
  "language_info": {
   "codemirror_mode": {
    "name": "ipython",
    "version": 3
   },
   "file_extension": ".py",
   "mimetype": "text/x-python",
   "name": "python",
   "nbconvert_exporter": "python",
   "pygments_lexer": "ipython3",
   "version": "3.9.12"
  }
 },
 "nbformat": 4,
 "nbformat_minor": 5
}
