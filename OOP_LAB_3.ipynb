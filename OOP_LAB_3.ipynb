{
  "nbformat": 4,
  "nbformat_minor": 0,
  "metadata": {
    "colab": {
      "provenance": []
    },
    "kernelspec": {
      "name": "python3",
      "display_name": "Python 3"
    },
    "language_info": {
      "name": "python"
    }
  },
  "cells": [
    {
      "cell_type": "code",
      "execution_count": null,
      "metadata": {
        "colab": {
          "base_uri": "https://localhost:8080/"
        },
        "id": "V4gUhqbLKfrr",
        "outputId": "2176c520-82fd-48e7-f868-7d8a1305a4fd"
      },
      "outputs": [
        {
          "output_type": "stream",
          "name": "stdout",
          "text": [
            "Book 1:\n",
            "Title: The Great Gatsby\n",
            "Author: F. Scott Fitzgerald\n",
            "Genre: Fiction\n",
            "Publication Year: 1925\n",
            "\n",
            "Book 2:\n",
            "Title: To Kill a Mockingbird\n",
            "Author: Harper Lee\n",
            "Genre: Fiction\n",
            "Publication Year: 1960\n",
            "\n",
            "Book 3:\n",
            "Title: 1984\n",
            "Author: George Orwell\n",
            "Genre: Dystopian\n",
            "Publication Year: 1949\n",
            "\n",
            "Book 4:\n",
            "Title: The Hobbit\n",
            "Author: J.R.R. Tolkien\n",
            "Genre: Fantasy\n",
            "Publication Year: 1937\n",
            "\n"
          ]
        }
      ],
      "source": [
        "class Book:\n",
        "    def __init__(self, title, author, genre, publication_year):\n",
        "        self.title = title\n",
        "        self.author = author\n",
        "        self.genre = genre\n",
        "        self.publication_year = publication_year\n",
        "\n",
        "    def display_info(self):\n",
        "        print(f\"Title: {self.title}\")\n",
        "        print(f\"Author: {self.author}\")\n",
        "        print(f\"Genre: {self.genre}\")\n",
        "        print(f\"Publication Year: {self.publication_year}\")\n",
        "        print()\n",
        "\n",
        "\n",
        "book1 = Book(\"The Great Gatsby\", \"F. Scott Fitzgerald\", \"Fiction\", 1925)\n",
        "book2 = Book(\"To Kill a Mockingbird\", \"Harper Lee\", \"Fiction\", 1960)\n",
        "book3 = Book(\"1984\", \"George Orwell\", \"Dystopian\", 1949)\n",
        "book4 = Book(\"The Hobbit\", \"J.R.R. Tolkien\", \"Fantasy\", 1937)\n",
        "\n",
        "\n",
        "print(\"Book 1:\")\n",
        "book1.display_info()\n",
        "\n",
        "print(\"Book 2:\")\n",
        "book2.display_info()\n",
        "\n",
        "print(\"Book 3:\")\n",
        "book3.display_info()\n",
        "\n",
        "print(\"Book 4:\")\n",
        "book4.display_info()\n"
      ]
    },
    {
      "cell_type": "code",
      "source": [
        "class MovieTicket:\n",
        "    def __init__(self, movie_name, show_time, ticket_price, number_of_tickets_available):\n",
        "        self.movie_name = movie_name\n",
        "        self.show_time = show_time\n",
        "        self.ticket_price = ticket_price\n",
        "        self.number_of_tickets_available = number_of_tickets_available\n",
        "\n",
        "    def book_tickets(self, num_tickets):\n",
        "        if num_tickets > 0 and num_tickets <= self.number_of_tickets_available:\n",
        "            self.number_of_tickets_available -= num_tickets\n",
        "            return f\"Booking successful! {num_tickets} ticket(s) booked for {self.movie_name}.\"\n",
        "        else:\n",
        "            return f\"Error: Not enough tickets available for {self.movie_name}.\"\n",
        "\n",
        "    def calculate_total_cost(self, num_tickets):\n",
        "        return num_tickets * self.ticket_price\n",
        "\n",
        "    def display_movie_info(self):\n",
        "        print(f\"Movie Name: {self.movie_name}\")\n",
        "        print(f\"Show Time: {self.show_time}\")\n",
        "        print(f\"Ticket Price: ${self.ticket_price}\")\n",
        "        print(f\"Number of Tickets Available: {self.number_of_tickets_available}\")\n",
        "        print()\n",
        "\n",
        "\n",
        "movie1 = MovieTicket(\"DDLJ\", \"18:00\", 12.50, 100)\n",
        "movie1.display_movie_info()\n",
        "booking_result = movie1.book_tickets(3)\n",
        "print(booking_result)\n",
        "total_cost = movie1.calculate_total_cost(3)\n",
        "print(f\"Total Cost: ${total_cost}\")\n",
        "movie1.display_movie_info()"
      ],
      "metadata": {
        "colab": {
          "base_uri": "https://localhost:8080/"
        },
        "id": "ItNqRYIQKwLl",
        "outputId": "35ab3441-e9fd-4df1-ab99-f3717b5be1b4"
      },
      "execution_count": null,
      "outputs": [
        {
          "output_type": "stream",
          "name": "stdout",
          "text": [
            "Movie Name: DDLJ\n",
            "Show Time: 18:00\n",
            "Ticket Price: $12.5\n",
            "Number of Tickets Available: 100\n",
            "\n",
            "Booking successful! 3 ticket(s) booked for DDLJ.\n",
            "Total Cost: $37.5\n",
            "Movie Name: DDLJ\n",
            "Show Time: 18:00\n",
            "Ticket Price: $12.5\n",
            "Number of Tickets Available: 97\n",
            "\n"
          ]
        }
      ]
    },
    {
      "cell_type": "code",
      "source": [
        "class Employee:\n",
        "    def __init__(self, name, salary):\n",
        "        self.name = name\n",
        "        self.__salary = salary\n",
        "\n",
        "    def work(self):\n",
        "        print(f\"{self.name} is working.\")\n",
        "\n",
        "    def show(self):\n",
        "        print(f\"Employee Name: {self.name}\")\n",
        "        print(f\"Salary: ${self.__salary}\")\n",
        "        print()\n",
        "\n",
        "    def get_salary(self):\n",
        "        return self.__salary\n",
        "\n",
        "    def set_salary(self, new_salary):\n",
        "        if new_salary >= 0:\n",
        "            self.__salary = new_salary\n",
        "            print(f\"Salary updated to ${new_salary}.\")\n",
        "        else:\n",
        "            print(\"Error: Salary cannot be negative.\")\n",
        "\n",
        "\n",
        "employee1 = Employee(\"John Doe\", 50000)\n",
        "\n",
        "\n",
        "employee1.show()\n",
        "\n",
        "\n",
        "employee1.work()\n",
        "\n",
        "\n",
        "print(f\"{employee1.name}'s salary: ${employee1.get_salary()}\")\n",
        "\n",
        "\n",
        "employee1.set_salary(55000)\n",
        "\n",
        "\n",
        "employee1.show()\n"
      ],
      "metadata": {
        "colab": {
          "base_uri": "https://localhost:8080/"
        },
        "id": "I0EzoxJWKwsz",
        "outputId": "d0113752-a86e-4c15-9e63-79cca11be0e6"
      },
      "execution_count": null,
      "outputs": [
        {
          "output_type": "stream",
          "name": "stdout",
          "text": [
            "Employee Name: John Doe\n",
            "Salary: $50000\n",
            "\n",
            "John Doe is working.\n",
            "John Doe's salary: $50000\n",
            "Salary updated to $55000.\n",
            "Employee Name: John Doe\n",
            "Salary: $55000\n",
            "\n"
          ]
        }
      ]
    },
    {
      "cell_type": "code",
      "source": [
        "class CreditCard:\n",
        "    def __init__(self, limit):\n",
        "        self.__limit = limit\n",
        "        self.__balance = 0\n",
        "\n",
        "    def get_balance(self):\n",
        "        return self.__balance\n",
        "\n",
        "    def withdraw(self, amount):\n",
        "        if amount > 0 and amount <= self.__balance:\n",
        "            self.__balance -= amount\n",
        "            print(f\"Withdrew ${amount}. New balance: ${self.__balance}\")\n",
        "        else:\n",
        "            print(\"Error: Invalid withdrawal amount or insufficient balance.\")\n",
        "\n",
        "    def deposit(self, amount):\n",
        "        if amount > 0:\n",
        "            self.__balance += amount\n",
        "            print(f\"Deposited ${amount}. New balance: ${self.__balance}\")\n",
        "        else:\n",
        "            print(\"Error: Invalid deposit amount.\")\n",
        "\n",
        "\n",
        "credit_card = CreditCard(limit=1000)\n",
        "\n",
        "initial_balance = credit_card.get_balance()\n",
        "\n",
        "print(f\"Initial balance: ${initial_balance}\")\n",
        "\n",
        "credit_card.withdraw(200)\n",
        "\n",
        "credit_card.deposit(150)\n",
        "\n",
        "credit_card.withdraw(1000)\n",
        "\n",
        "credit_card.deposit(-50)\n",
        "\n",
        "updated_balance = credit_card.get_balance()\n",
        "print(f\"Updated balance: ${updated_balance}\")\n"
      ],
      "metadata": {
        "colab": {
          "base_uri": "https://localhost:8080/"
        },
        "id": "YUz_7if1Kw1T",
        "outputId": "c357ba58-ee4a-4f81-88ad-2c30811e023e"
      },
      "execution_count": null,
      "outputs": [
        {
          "output_type": "stream",
          "name": "stdout",
          "text": [
            "Initial balance: $0\n",
            "Error: Invalid withdrawal amount or insufficient balance.\n",
            "Deposited $150. New balance: $150\n",
            "Error: Invalid withdrawal amount or insufficient balance.\n",
            "Error: Invalid deposit amount.\n",
            "Updated balance: $150\n"
          ]
        }
      ]
    },
    {
      "cell_type": "code",
      "source": [
        "class Product:\n",
        "    def __init__(self, product_id, product_name, product_price):\n",
        "        self.product_id = product_id\n",
        "        self.product_name = product_name\n",
        "        self.product_price = product_price\n",
        "\n",
        "    def apply_discount(self, discount_percentage):\n",
        "        if discount_percentage > 0 and discount_percentage <= 100:\n",
        "            discounted_price = self.product_price - (self.product_price * discount_percentage / 100)\n",
        "            return discounted_price\n",
        "        else:\n",
        "            print(\"Error: Invalid discount percentage.\")\n",
        "            return None\n",
        "\n",
        "    def is_expensive(self, threshold_price):\n",
        "        return self.product_price > threshold_price\n",
        "\n",
        "    def display_product_info(self):\n",
        "        print(f\"Product ID: {self.product_id}\")\n",
        "        print(f\"Product Name: {self.product_name}\")\n",
        "        print(f\"Product Price: ${self.product_price}\")\n",
        "        print()\n",
        "\n",
        "product1 = Product(product_id=1, product_name=\"Laptop\", product_price=1200)\n",
        "product2 = Product(product_id=2, product_name=\"Smartphone\", product_price=500)\n",
        "product3 = Product(product_id=3, product_name=\"Headphones\", product_price=80)\n",
        "\n",
        "product1.display_product_info()\n",
        "product2.display_product_info()\n",
        "product3.display_product_info()\n",
        "\n",
        "\n",
        "discounted_price = product1.apply_discount(20)\n",
        "if discounted_price is not None:\n",
        "    print(f\"After 10% discount, new price: ${discounted_price}\")\n",
        "\n",
        "expensive_check = product2.is_expensive(400)\n",
        "print(f\"Is {product2.product_name} expensive? {'Yes' if expensive_check else 'No'}\")\n"
      ],
      "metadata": {
        "colab": {
          "base_uri": "https://localhost:8080/"
        },
        "id": "cRj6VrsCLfQZ",
        "outputId": "2676e156-dc32-4e57-9341-361f26684438"
      },
      "execution_count": null,
      "outputs": [
        {
          "output_type": "stream",
          "name": "stdout",
          "text": [
            "Product ID: 1\n",
            "Product Name: Laptop\n",
            "Product Price: $1200\n",
            "\n",
            "Product ID: 2\n",
            "Product Name: Smartphone\n",
            "Product Price: $500\n",
            "\n",
            "Product ID: 3\n",
            "Product Name: Headphones\n",
            "Product Price: $80\n",
            "\n",
            "After 10% discount, new price: $960.0\n",
            "Is Smartphone expensive? Yes\n"
          ]
        }
      ]
    },
    {
      "cell_type": "code",
      "source": [
        "class ExpensiveCar:\n",
        "    def __init__(self, price, speed, mileage, model, color):\n",
        "        self.price = price\n",
        "        self.speed = speed\n",
        "        self.mileage = mileage\n",
        "        self.model = model\n",
        "        self.color = color\n",
        "        self.is_started = False\n",
        "\n",
        "    def start(self):\n",
        "        if not self.is_started:\n",
        "            print(f\"The {self.color} {self.model} has started.\")\n",
        "            self.is_started = True\n",
        "        else:\n",
        "            print(\"The car is already running.\")\n",
        "\n",
        "    def stop(self):\n",
        "        if self.is_started:\n",
        "            print(f\"The {self.color} {self.model} has stopped.\")\n",
        "            self.is_started = False\n",
        "        else:\n",
        "            print(\"The car is already stopped.\")\n",
        "\n",
        "    def accelerate(self):\n",
        "        print(f\"The {self.color} {self.model} is accelerating. Speed: {self.speed} mph.\")\n",
        "\n",
        "    def brake(self):\n",
        "        print(f\"The {self.color} {self.model} is braking.\")\n",
        "\n",
        "\n",
        "car1 = ExpensiveCar(150000, 200, 15, \"seltos\", \"white\")\n",
        "car2 = ExpensiveCar(200000, 220, 12, \"hector\", \"grey\")\n",
        "car3 = ExpensiveCar(180000, 210, 14, \"rollsroyce\", \"black\")\n",
        "\n",
        "\n",
        "car1.start()\n",
        "car1.accelerate()\n",
        "car1.brake()\n",
        "car1.stop()\n",
        "\n",
        "print(\"\\n\")\n",
        "\n",
        "car2.start()\n",
        "car2.accelerate()\n",
        "car2.stop()\n",
        "\n",
        "print(\"\\n\")\n",
        "\n",
        "car3.start()\n",
        "car3.brake()\n",
        "car3.stop()\n"
      ],
      "metadata": {
        "colab": {
          "base_uri": "https://localhost:8080/"
        },
        "id": "4S3M4ZeYUJVM",
        "outputId": "75d1c233-41de-4259-8220-7ad6b730b972"
      },
      "execution_count": null,
      "outputs": [
        {
          "output_type": "stream",
          "name": "stdout",
          "text": [
            "The white seltos has started.\n",
            "The white seltos is accelerating. Speed: 200 mph.\n",
            "The white seltos is braking.\n",
            "The white seltos has stopped.\n",
            "\n",
            "\n",
            "The grey hector has started.\n",
            "The grey hector is accelerating. Speed: 220 mph.\n",
            "The grey hector has stopped.\n",
            "\n",
            "\n",
            "The black rollsroyce has started.\n",
            "The black rollsroyce is braking.\n",
            "The black rollsroyce has stopped.\n"
          ]
        }
      ]
    }
  ]
}